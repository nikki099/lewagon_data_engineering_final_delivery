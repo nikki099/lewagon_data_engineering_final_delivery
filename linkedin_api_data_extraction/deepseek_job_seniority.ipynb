{
 "cells": [
  {
   "cell_type": "code",
   "execution_count": 1,
   "id": "f66bef80",
   "metadata": {},
   "outputs": [],
   "source": [
    "import pandas as pd\n",
    "from pandas import json_normalize\n",
    "import requests\n",
    "import json\n",
    "import snowflake.connector\n",
    "\n",
    "from dotenv import load_dotenv\n",
    "import os\n",
    "import http.client\n",
    "import urllib.parse\n",
    "\n",
    "from sqlalchemy import create_engine"
   ]
  },
  {
   "cell_type": "code",
   "execution_count": 2,
   "id": "1b331d9d",
   "metadata": {},
   "outputs": [],
   "source": [
    "load_dotenv()\n",
    "snowflake_password = os.getenv('SNOWFLAKE_PASSWORD')"
   ]
  },
  {
   "cell_type": "markdown",
   "id": "23484c13",
   "metadata": {},
   "source": [
    "## Connect to  Snowflake database for raw data initial processing"
   ]
  },
  {
   "cell_type": "code",
   "execution_count": 3,
   "metadata": {},
   "outputs": [
    {
     "name": "stdout",
     "output_type": "stream",
     "text": [
      "Connection to Snowflake established successfully.\n"
     ]
    }
   ],
   "source": [
    "#Establish a connection to Snowflake\n",
    "\n",
    "def connect_to_snowflake():\n",
    "    try:\n",
    "\n",
    "        conn = snowflake.connector.connect(\n",
    "            user=\"NIKKILW2025\",\n",
    "            password=snowflake_password,\n",
    "            account=\"gbszkwp-by30611\",\n",
    "            warehouse=\"SNOWFLAKE_LEARNING_WH\",\n",
    "            database=\"linkedin_db\",\n",
    "            schema=\"linkedin_raw\"\n",
    "        )\n",
    "        print(\"Connection to Snowflake established successfully.\")\n",
    "        return conn\n",
    "    except Exception as e:\n",
    "        print(f\"Error connecting to Snowflake: {e}\")\n",
    "        return None\n",
    "\n",
    "conn = connect_to_snowflake()"
   ]
  },
  {
   "cell_type": "code",
   "execution_count": 4,
   "id": "a2c26868",
   "metadata": {},
   "outputs": [
    {
     "name": "stderr",
     "output_type": "stream",
     "text": [
      "/tmp/ipykernel_13579/996837004.py:7: UserWarning: pandas only supports SQLAlchemy connectable (engine/connection) or database string URI or sqlite3 DBAPI2 connection. Other DBAPI2 objects are not tested. Please consider using SQLAlchemy.\n",
      "  df_lvl = pd.read_sql(query, conn)\n"
     ]
    },
    {
     "name": "stdout",
     "output_type": "stream",
     "text": [
      "(33, 1)\n"
     ]
    },
    {
     "data": {
      "text/html": [
       "<div>\n",
       "<style scoped>\n",
       "    .dataframe tbody tr th:only-of-type {\n",
       "        vertical-align: middle;\n",
       "    }\n",
       "\n",
       "    .dataframe tbody tr th {\n",
       "        vertical-align: top;\n",
       "    }\n",
       "\n",
       "    .dataframe thead th {\n",
       "        text-align: right;\n",
       "    }\n",
       "</style>\n",
       "<table border=\"1\" class=\"dataframe\">\n",
       "  <thead>\n",
       "    <tr style=\"text-align: right;\">\n",
       "      <th></th>\n",
       "      <th>SENIORITY</th>\n",
       "    </tr>\n",
       "  </thead>\n",
       "  <tbody>\n",
       "    <tr>\n",
       "      <th>0</th>\n",
       "      <td>Medium-high level</td>\n",
       "    </tr>\n",
       "    <tr>\n",
       "      <th>1</th>\n",
       "      <td>It does not correspond</td>\n",
       "    </tr>\n",
       "    <tr>\n",
       "      <th>2</th>\n",
       "      <td>Executive</td>\n",
       "    </tr>\n",
       "    <tr>\n",
       "      <th>3</th>\n",
       "      <td>Not valid</td>\n",
       "    </tr>\n",
       "    <tr>\n",
       "      <th>4</th>\n",
       "      <td>Senior level</td>\n",
       "    </tr>\n",
       "  </tbody>\n",
       "</table>\n",
       "</div>"
      ],
      "text/plain": [
       "                SENIORITY\n",
       "0       Medium-high level\n",
       "1  It does not correspond\n",
       "2               Executive\n",
       "3               Not valid\n",
       "4            Senior level"
      ]
     },
     "execution_count": 4,
     "metadata": {},
     "output_type": "execute_result"
    }
   ],
   "source": [
    "#query the seniority data\n",
    "def query_raw_api_data(conn):\n",
    "    query = \"\"\"\n",
    "        SELECT DISTINCT SENIORITY FROM LINKEDIN_JOB_API_CLEANED_DATA\n",
    "    \"\"\"\n",
    "\n",
    "    df_lvl = pd.read_sql(query, conn)\n",
    "    print(df_lvl.shape)\n",
    "    return df_lvl\n",
    "\n",
    "df_lvl = query_raw_api_data(conn)\n",
    "df_lvl.head()"
   ]
  },
  {
   "cell_type": "code",
   "execution_count": 5,
   "id": "bbbdbc28",
   "metadata": {},
   "outputs": [
    {
     "data": {
      "text/plain": [
       "0         Intermediate\n",
       "1       Not Applicable\n",
       "2    Manager/Executive\n",
       "3       Not Applicable\n",
       "4               Senior\n",
       "Name: SENIORITY_STANDARDIZED, dtype: object"
      ]
     },
     "execution_count": 5,
     "metadata": {},
     "output_type": "execute_result"
    }
   ],
   "source": [
    "#Deepseek API access request\n",
    "\n",
    "\n",
    "def ds_job_seniority_category(exp_lvl_raw):\n",
    "\n",
    "    deepseek_api_key = os.getenv('DEEPSEEK_API_KEY')\n",
    "    deepseek_api_url = \"https://api.deepseek.com/v1/chat/completions\"\n",
    "\n",
    "    headers = {\n",
    "        \"Authorization\": f\"Bearer {deepseek_api_key}\",\n",
    "        \"Content-Type\": \"application/json\",\n",
    "    }\n",
    "\n",
    "\n",
    "    #construct the prompt\n",
    "    user_content = (\n",
    "        \"Below are several desired job experience descriptions. \\n\"\n",
    "        \"For each one, please categorize as 'No Experience', 'Entry_Level', 'Intermediate', 'Senior', 'Manager/Executive', or 'Not Applicable'. \\n\"\n",
    "        \"Only return the category for each line, e.g.: 'No Experience'. Output should be one category per line, in the same order as the input.\\n\\n\"\n",
    "    )\n",
    "\n",
    "    for idx, lvl in enumerate(exp_lvl_raw,1):\n",
    "        user_content = user_content + f\"{lvl}\\n\"\n",
    "\n",
    "    data = {\n",
    "        \"model\": \"deepseek-chat\",\n",
    "        \"messages\": [\n",
    "            {\"role\": \"system\", \"content\": \"You are a helpful assistant\"},\n",
    "            {\"role\": \"user\", \"content\": user_content},\n",
    "        ],\n",
    "        \"stream\" : False,\n",
    "    }\n",
    "\n",
    "    response =  requests.post(deepseek_api_url, headers=headers, data=json.dumps(data))\n",
    "    if response.status_code == 200:\n",
    "        result =  response.json()\n",
    "        exp_lvl = [\n",
    "            line.strip()\n",
    "            for line in result[\"choices\"][0][\"message\"][\"content\"].strip().split('\\n')\n",
    "            if line.strip()\n",
    "        ]\n",
    "        return exp_lvl\n",
    "    else:\n",
    "        print(f\"Error: {response.status_code}, {response.text}\")\n",
    "\n",
    "exp_lvl_raw  = df_lvl['SENIORITY']\n",
    "df_lvl['SENIORITY_STANDARDIZED'] = ds_job_seniority_category(exp_lvl_raw)\n",
    "df_lvl['SENIORITY_STANDARDIZED'][:5]"
   ]
  },
  {
   "cell_type": "code",
   "execution_count": 6,
   "id": "a91d853f",
   "metadata": {},
   "outputs": [
    {
     "name": "stdout",
     "output_type": "stream",
     "text": [
      "Data loaded to Snowflake table job_seniority successfully.\n"
     ]
    }
   ],
   "source": [
    "#write to a new snowflake table for seniority\n",
    "\n",
    "def load_to_snowflake(df_lvl):\n",
    "    # Create a Snowflake connection engine\n",
    "   engine = create_engine(\n",
    "        'snowflake://{user}:{password}@{account}/{database}/{schema}?warehouse={warehouse}'.format(\n",
    "        user=\"NIKKILW2025\",\n",
    "        password=snowflake_password,\n",
    "        account=\"gbszkwp-by30611\",\n",
    "        warehouse=\"SNOWFLAKE_LEARNING_WH\",\n",
    "        database=\"linkedin_db\",\n",
    "        schema=\"linkedin_raw\"\n",
    "    )\n",
    "   )\n",
    "\n",
    "   table_name = \"job_seniority\"\n",
    "\n",
    "   df_lvl.to_sql(\n",
    "        name=table_name,\n",
    "        con=engine,\n",
    "        if_exists='append',\n",
    "        index=False\n",
    "    )\n",
    "\n",
    "   print(f\"Data loaded to Snowflake table {table_name} successfully.\")\n",
    "\n",
    "\n",
    "load_to_snowflake(df_lvl)"
   ]
  },
  {
   "cell_type": "code",
   "execution_count": null,
   "id": "0495a749",
   "metadata": {},
   "outputs": [],
   "source": []
  }
 ],
 "metadata": {
  "kernelspec": {
   "display_name": "Poetry (linkedin_etl_project)",
   "language": "python",
   "name": "linkedin_etl_project"
  },
  "language_info": {
   "codemirror_mode": {
    "name": "ipython",
    "version": 3
   },
   "file_extension": ".py",
   "mimetype": "text/x-python",
   "name": "python",
   "nbconvert_exporter": "python",
   "pygments_lexer": "ipython3",
   "version": "3.12.8"
  }
 },
 "nbformat": 4,
 "nbformat_minor": 5
}
