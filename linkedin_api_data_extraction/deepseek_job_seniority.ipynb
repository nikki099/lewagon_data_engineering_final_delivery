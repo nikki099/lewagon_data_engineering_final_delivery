{
 "cells": [
  {
   "cell_type": "code",
   "execution_count": 2,
   "id": "f66bef80",
   "metadata": {},
   "outputs": [],
   "source": [
    "import pandas as pd\n",
    "from pandas import json_normalize\n",
    "import requests\n",
    "import json\n",
    "import snowflake.connector\n",
    "\n",
    "from dotenv import load_dotenv\n",
    "import os\n",
    "import http.client\n",
    "import urllib.parse\n",
    "\n",
    "from sqlalchemy import create_engine"
   ]
  },
  {
   "cell_type": "code",
   "execution_count": 3,
   "id": "1b331d9d",
   "metadata": {},
   "outputs": [],
   "source": [
    "load_dotenv()\n",
    "snowflake_password = os.getenv('SNOWFLAKE_PASSWORD')"
   ]
  },
  {
   "cell_type": "markdown",
   "id": "23484c13",
   "metadata": {},
   "source": [
    "## Connect to  Snowflake database for raw data initial processing"
   ]
  },
  {
   "cell_type": "code",
   "execution_count": 4,
   "metadata": {},
   "outputs": [
    {
     "name": "stdout",
     "output_type": "stream",
     "text": [
      "Connection to Snowflake established successfully.\n"
     ]
    }
   ],
   "source": [
    "#Establish a connection to Snowflake\n",
    "\n",
    "def connect_to_snowflake():\n",
    "    try:\n",
    "\n",
    "        conn = snowflake.connector.connect(\n",
    "            user=\"NIKKILW2025\",\n",
    "            password=snowflake_password,\n",
    "            account=\"gbszkwp-by30611\",\n",
    "            warehouse=\"SNOWFLAKE_LEARNING_WH\",\n",
    "            database=\"linkedin_db\",\n",
    "            schema=\"linkedin_raw\"\n",
    "        )\n",
    "        print(\"Connection to Snowflake established successfully.\")\n",
    "        return conn\n",
    "    except Exception as e:\n",
    "        print(f\"Error connecting to Snowflake: {e}\")\n",
    "        return None\n",
    "\n",
    "conn = connect_to_snowflake()"
   ]
  },
  {
   "cell_type": "code",
   "execution_count": null,
   "id": "a2c26868",
   "metadata": {},
   "outputs": [],
   "source": [
    "#query the seniority data\n",
    "def query_raw_api_data(conn):\n",
    "    query = \"\"\"\n",
    "        SELECT DISTINCT SENIORITY FROM clean_job_title_data\n",
    "    \"\"\"\n",
    "\n",
    "    df_lvl = pd.read_sql(query, conn)\n",
    "    print(df_lvl.shape)\n",
    "    return df_lvl\n",
    "\n",
    "df_lvl = query_raw_api_data(conn)\n",
    "df_lvl.head()"
   ]
  },
  {
   "cell_type": "code",
   "execution_count": null,
   "id": "bbbdbc28",
   "metadata": {},
   "outputs": [],
   "source": [
    "#Deepseek API access request\n",
    "\n",
    "\n",
    "def ds_job_seniority_category(exp_lvl_raw):\n",
    "\n",
    "    deepseek_api_key = os.getenv('DEEPSEEK_API_KEY')\n",
    "    deepseek_api_url = \"https://api.deepseek.com/v1/chat/completions\"\n",
    "\n",
    "    headers = {\n",
    "        \"Authorization\": f\"Bearer {deepseek_api_key}\",\n",
    "        \"Content-Type\": \"application/json\",\n",
    "    }\n",
    "\n",
    "\n",
    "    #construct the prompt\n",
    "    user_content = (\n",
    "        \"Below are several desired job experience descriptions. \\n\"\n",
    "        \"For each one, please categorize as 'No Experience', 'Entry_Level', 'Intermediate', 'Senior', 'Manager/Executive', or 'Not Applicable'. \\n\"\n",
    "        \"Only return the category for each line, e.g.: 'No Experience'. Output should be one category per line, in the same order as the input.\\n\\n\"\n",
    "    )\n",
    "\n",
    "    for idx, lvl in enumerate(exp_lvl_raw,1):\n",
    "        user_content = user_content + f\"{lvl}\\n\"\n",
    "\n",
    "    data = {\n",
    "        \"model\": \"deepseek-chat\",\n",
    "        \"messages\": [\n",
    "            {\"role\": \"system\", \"content\": \"You are a helpful assistant\"},\n",
    "            {\"role\": \"user\", \"content\": user_content},\n",
    "        ],\n",
    "        \"stream\" : False,\n",
    "    }\n",
    "\n",
    "    response =  requests.post(deepseek_api_url, headers=headers, data=json.dumps(data))\n",
    "    if response.status_code == 200:\n",
    "        result =  response.json()\n",
    "        exp_lvl = [\n",
    "            line.strip()\n",
    "            for line in result[\"choices\"][0][\"message\"][\"content\"].strip().split('\\n')\n",
    "            if line.strip()\n",
    "        ]\n",
    "        return exp_lvl\n",
    "    else:\n",
    "        print(f\"Error: {response.status_code}, {response.text}\")\n",
    "\n",
    "exp_lvl_raw  = df_lvl['SENIORITY']\n",
    "df_lvl['SENIORITY_STANDARDIZED'] = ds_job_seniority_category(exp_lvl_raw)\n",
    "df_lvl['SENIORITY_STANDARDIZED'][:5]"
   ]
  },
  {
   "cell_type": "code",
   "execution_count": null,
   "id": "a91d853f",
   "metadata": {},
   "outputs": [],
   "source": [
    "#write to a new snowflake table for seniority\n",
    "\n",
    "def load_to_snowflake(df_lvl):\n",
    "    # Create a Snowflake connection engine\n",
    "   engine = create_engine(\n",
    "        'snowflake://{user}:{password}@{account}/{database}/{schema}?warehouse={warehouse}'.format(\n",
    "        user=\"NIKKILW2025\",\n",
    "        password=snowflake_password,\n",
    "        account=\"gbszkwp-by30611\",\n",
    "        warehouse=\"SNOWFLAKE_LEARNING_WH\",\n",
    "        database=\"linkedin_db\",\n",
    "        schema=\"linkedin_raw\"\n",
    "    )\n",
    "   )\n",
    "\n",
    "   table_name = \"job_seniority\"\n",
    "\n",
    "   df_lvl.to_sql(\n",
    "        name=table_name,\n",
    "        con=engine,\n",
    "        if_exists='append',\n",
    "        index=False\n",
    "    )\n",
    "\n",
    "   print(f\"Data loaded to Snowflake table {table_name} successfully.\")\n",
    "\n",
    "\n",
    "load_to_snowflake(df_lvl)"
   ]
  },
  {
   "cell_type": "code",
   "execution_count": null,
   "id": "0495a749",
   "metadata": {},
   "outputs": [],
   "source": []
  }
 ],
 "metadata": {
  "kernelspec": {
   "display_name": "Poetry (linkedin_etl_project)",
   "language": "python",
   "name": "linkedin_etl_project"
  },
  "language_info": {
   "codemirror_mode": {
    "name": "ipython",
    "version": 3
   },
   "file_extension": ".py",
   "mimetype": "text/x-python",
   "name": "python",
   "nbconvert_exporter": "python",
   "pygments_lexer": "ipython3",
   "version": "3.12.8"
  }
 },
 "nbformat": 4,
 "nbformat_minor": 5
}
